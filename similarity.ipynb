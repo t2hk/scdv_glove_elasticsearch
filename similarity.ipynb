{
 "cells": [
  {
   "cell_type": "markdown",
   "metadata": {},
   "source": [
    "# GloVeの単語ベクトルによる類似語検索"
   ]
  },
  {
   "cell_type": "code",
   "execution_count": 62,
   "metadata": {},
   "outputs": [
    {
     "data": {
      "text/plain": [
       "[('大型', 0.812087893486023),\n",
       " ('トレーラー', 0.8037623167037964),\n",
       " ('t', 0.8022152781486511),\n",
       " ('停車', 0.7754109501838684),\n",
       " ('ダンプ', 0.7720902562141418),\n",
       " ('荷台', 0.765929102897644),\n",
       " ('積む', 0.7538949847221375),\n",
       " ('走行', 0.753769040107727),\n",
       " ('ダンプトラック', 0.7408422827720642),\n",
       " ('走行中', 0.7344934940338135),\n",
       " ('追突', 0.7296924591064453),\n",
       " ('ダンプカー', 0.7262539267539978),\n",
       " ('前方', 0.7261230945587158),\n",
       " ('くる', 0.7258666753768921),\n",
       " ('10', 0.7164998054504395),\n",
       " ('積載', 0.7143024206161499),\n",
       " ('国道', 0.7056641578674316),\n",
       " ('後方', 0.6954992413520813),\n",
       " ('運転', 0.6948610544204712),\n",
       " ('トントラック', 0.6948599815368652),\n",
       " ('積み込む', 0.6935635805130005),\n",
       " ('自動車', 0.6884791851043701),\n",
       " ('車両', 0.6840767860412598),\n",
       " ('4', 0.6738653182983398),\n",
       " ('後部', 0.6726698279380798),\n",
       " ('貨物自動車', 0.6653414964675903),\n",
       " ('運転手', 0.6386405825614929),\n",
       " ('衝突', 0.6329050660133362),\n",
       " ('乗用車', 0.6329023838043213),\n",
       " ('高速道路', 0.6220003366470337)]"
      ]
     },
     "execution_count": 62,
     "metadata": {},
     "output_type": "execute_result"
    }
   ],
   "source": [
    "from gensim.models import KeyedVectors\n",
    "\n",
    "#glove_vector_file = \"../glove/gensim_glove_vectors.txt\"\n",
    "glove_vector_file = \"../elasticsearch/es_gensim_glove_vectors.txt\"\n",
    "word = \"トラック\"\n",
    "top_k = 30\n",
    "\n",
    "glove_vectors = KeyedVectors.load_word2vec_format(glove_vector_file, binary=False)\n",
    "glove_vectors.most_similar(word, [], top_k)"
   ]
  },
  {
   "cell_type": "code",
   "execution_count": 50,
   "metadata": {},
   "outputs": [],
   "source": [
    "import numpy as np\n",
    "\n",
    "def cos_similarity(x, y, eps=1e-8):\n",
    "    '''コサイン類似度の算出\n",
    "    :param x: ベクトル\n",
    "    :param y: ベクトル\n",
    "    :param eps: ”0割り”防止のための微小値\n",
    "    :return:\n",
    "    '''\n",
    "    nx = x / (np.sqrt(np.sum(x ** 2)) + eps)\n",
    "    ny = y / (np.sqrt(np.sum(y ** 2)) + eps)\n",
    "    return np.dot(nx, ny)\n",
    "\n",
    "def most_similar(query, word_to_id, id_to_word, word_matrix, top=5):\n",
    "    '''類似単語の検索\n",
    "    :param query: クエリ（テキスト）\n",
    "    :param word_to_id: 単語から単語IDへのディクショナリ\n",
    "    :param id_to_word: 単語IDから単語へのディクショナリ\n",
    "    :param word_matrix: 単語ベクトルをまとめた行列。各行に対応する単語のベクトル\n",
    "が格納されていることを想定する\n",
    "    :param top: 上位何位まで表示するか\n",
    "    '''\n",
    "    if query not in word_to_id:\n",
    "        print('%s is not found' % query)\n",
    "        return\n",
    "\n",
    "    print('\\n[query] ' + query)\n",
    "    query_id = word_to_id[query]\n",
    "    query_vec = word_matrix[query_id]\n",
    "\n",
    "    vocab_size = len(id_to_word)\n",
    "\n",
    "    similarity = np.zeros(vocab_size)\n",
    "    for i in range(vocab_size):\n",
    "        similarity[i] = cos_similarity(word_matrix[i], query_vec)\n",
    "\n",
    "    count = 0\n",
    "    for i in (-1 * similarity).argsort():\n",
    "        print(\"i:{}\".format(i))\n",
    "        if id_to_word[i] == query:\n",
    "            continue\n",
    "        print(' %s: %s' % (id_to_word[i], similarity[i]))\n",
    "\n",
    "        count += 1\n",
    "        if count >= top:\n",
    "            return"
   ]
  },
  {
   "cell_type": "code",
   "execution_count": 46,
   "metadata": {},
   "outputs": [],
   "source": [
    "\n"
   ]
  },
  {
   "cell_type": "code",
   "execution_count": 48,
   "metadata": {},
   "outputs": [
    {
     "name": "stdout",
     "output_type": "stream",
     "text": [
      "農林業, 機械集材装置により丸太を運搬し土場へ降ろす作業を単独で行っていて、丸太の下敷きとなった。\n",
      "================\n",
      "0.9999999403953552, 農林業, 機械集材装置により丸太を運搬し土場へ降ろす作業を単独で行っていて、丸太の下敷きとなった。\n",
      "0.7055249214172363, 製造業, 製材工場の皮剥機での丸太の加工中、台車と操作室との間にある配線カバーが外れているのに気付いた操作者が、修理しようとして一旦皮剥機の稼働を停止して丸太を卸したとき、台車上の木材の向こう側にいた被災者に丸太が激突した。丸太は直径６０ｃｍ、長さ６．２ｍ、重量が約１．１ｔの米松である。\n",
      "0.7026406526565552, 運輸交通業, 倉庫敷地内において、作業者２名が（丸太の積み込み、運搬等を行う）専用の荷役機械を用いて、２０ｔトレーラーに、約４ｍの丸太を縦三列に積み込む作業中、荷台近くにいたトレーラの運転手が、落ちてきた１本の丸太に激突された。\n",
      "0.690472424030304, 農林業, 山土場に仮集積していた木(15本)を、機械集材装置を用いて、土場に運搬する作業中、吊り上げた丸太の内の1本が落下し、荷掛け作業等を行っていた者に当たった。\n",
      "0.6887274980545044, 農林業, 機械集材装置により伐木を土場まで運搬する作業中、伐木が被災者に激突した。\n",
      "0.6844440698623657, 製造業, ２基で１対となった機械を工場に設置するため鋼製のパレットに乗せて搬入し、同機械をパレットから降ろす作業中、同機械の下部アームに乗り２基を結んでいた番線を解いたところ、同機械が倒れ下敷きになった。\n",
      "0.6723582744598389, 農林業, 機械集材装置を用いて玉切り材の荷卸し作業中、転倒した。\n",
      "0.6654088497161865, 製造業, 自動送材装置付ダブルソーにより丸太材を角材に製材する作業で、丸太が送り出されて製材が始まったので次の丸太を準備しようとしたところ、その丸太が停止位置を越え自動送材装置のそばまで転がって、すでに1回目の製材が終わり戻ってくる加工材とその丸太が引っかかり、自動送材装置で制御盤側に押し出された丸太に激突された。\n",
      "0.6615996956825256, 製造業, 製材工場において、丸太１７本（計６．０３ｔ）を積んだトラック（最大積載量２ｔ）の荷台から落下した長さ約４ｍの２本の丸太（計８７０ｋｇ）と地面との間に、下半身がはさまれた状態の被災者が発見されたもの。被災者はトラックから丸太の荷下ろし作業を行おうとして、丸太を固定している台付けワイヤーのレバーブロックを緩めたところ、荷台の最上部（高さ２．６７ｍ）付近に積んであった丸太２本が落下したものと推定される。\n",
      "0.6612318754196167, 建設業, 2tトラックの荷台に長さ2.2m前後の丸太を積み込む作業をしていたところ、地上2.15mまで積み上げられた丸太の上にいた被災者が墜落した。\n"
     ]
    }
   ],
   "source": [
    "import pandas as pd\n",
    "import pickle\n",
    "import numpy as np\n",
    "\n",
    "target_data = 1100\n",
    "top_k = 10\n",
    "\n",
    "df = pd.read_csv('wakati_category_all.csv')\n",
    "with open('scdv.pickle', 'rb') as f:\n",
    "    scdv = pickle.load(f)\n",
    "\n",
    "sentences_len = len(df)    \n",
    "\n",
    "sims = np.array([cos_similarity(scdv[target_data], scdv[i]) for i in range(sentences_len)])\n",
    "\n",
    "topk_index = np.argsort(-sims)[:top_k]\n",
    "\n",
    "print(\"{}, {}\".format(df['業種(大分類)'][target_data], df['文章'][target_data]))\n",
    "print(\"================\")\n",
    "for i in range(top_k):\n",
    "    index = topk_index[i]\n",
    "    print(\"{}, {}, {}\".format(sims[index], df['業種(大分類)'][index], df['文章'][index]))\n"
   ]
  }
 ],
 "metadata": {
  "kernelspec": {
   "display_name": "Environment (conda_mhlw)",
   "language": "python",
   "name": "conda_mhlw"
  },
  "language_info": {
   "codemirror_mode": {
    "name": "ipython",
    "version": 3
   },
   "file_extension": ".py",
   "mimetype": "text/x-python",
   "name": "python",
   "nbconvert_exporter": "python",
   "pygments_lexer": "ipython3",
   "version": "3.6.9"
  }
 },
 "nbformat": 4,
 "nbformat_minor": 4
}
