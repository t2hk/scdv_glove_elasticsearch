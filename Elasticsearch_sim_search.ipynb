{
 "cells": [
  {
   "cell_type": "markdown",
   "metadata": {},
   "source": [
    "## キーワード検索"
   ]
  },
  {
   "cell_type": "code",
   "execution_count": null,
   "metadata": {},
   "outputs": [],
   "source": [
    "import elasticsearch, json\n",
    "import pandas as pd\n",
    "\n",
    "HOST = \"192.168.1.31\"\n",
    "PORT = \"9200\"\n",
    "INDEX_NAME = \"mlhw\"\n",
    "SCROLL_TIME = '1m'\n",
    "SCROLL_SIZE = 10\n",
    "pd.set_option(\"display.max_colwidth\", 100)\n",
    "\n",
    "search_word = \"カバー\"\n",
    "\n",
    "client = elasticsearch.Elasticsearch(HOST + \":\" + PORT)\n",
    "\n",
    "results = []\n",
    "scroll_results = client.search(\n",
    "    index = INDEX_NAME,\n",
    "    scroll = SCROLL_TIME,\n",
    "    size = SCROLL_SIZE,\n",
    "    body = {\"query\": { \"match\": {\"文章\":search_word} }}\n",
    ")\n",
    "sid = scroll_results['_scroll_id']\n",
    "scroll_results = scroll_results['hits']['hits']\n",
    "scroll_size = len(scroll_results)\n",
    "\n",
    "for scroll_result in scroll_results:\n",
    "    results.append({\"id\":scroll_result['_id'], \"category\": scroll_result['_source']['業種(大分類)'], \"sentence\":scroll_result['_source']['文章']})\n",
    "\n",
    "while scroll_size > 0:\n",
    "    scroll_results = client.scroll(\n",
    "        scroll_id = sid,\n",
    "        scroll = SCROLL_TIME )\n",
    "    sid = scroll_results['_scroll_id']\n",
    "    scroll_results = scroll_results['hits']['hits']\n",
    "    scroll_size = len(scroll_results)\n",
    "    \n",
    "    for scroll_result in scroll_results:\n",
    "        results.append({\"id\":scroll_result['_id'], \"category\": scroll_result['_source']['業種(大分類)'], \"sentence\":scroll_result['_source']['文章']})\n",
    "\n",
    "df = pd.DataFrame(results)\n",
    "df"
   ]
  },
  {
   "cell_type": "markdown",
   "metadata": {},
   "source": [
    "## 類似検索したい文書を指定する"
   ]
  },
  {
   "cell_type": "code",
   "execution_count": null,
   "metadata": {},
   "outputs": [],
   "source": [
    "# 特定の行を参照する。0始まり\n",
    "target_id = 10\n",
    "target = df.loc[target_id]\n",
    "target"
   ]
  },
  {
   "cell_type": "markdown",
   "metadata": {},
   "source": [
    "## 類似する文書を検索し、トップ10を表示する"
   ]
  },
  {
   "cell_type": "code",
   "execution_count": null,
   "metadata": {},
   "outputs": [],
   "source": [
    "# 対象の文章ベクトルを取得する。\n",
    "\n",
    "id = target['id']\n",
    "target_detail = client.search(\n",
    "    index = INDEX_NAME,\n",
    "    body = {\"query\": { \"match\": {\"_id\":id} }}\n",
    ")\n",
    "target_vector = target_detail['hits']['hits'][0]['_source']['scdv_vector']\n",
    "target_vector\n",
    "\n",
    "script_query = {\n",
    "    \"script_score\": {\n",
    "        \"query\": {\"match_all\": {}},\n",
    "        \"script\": {\n",
    "            \"source\": \"cosineSimilarity(params.query_vector, doc['scdv_vector']) + 1.0\",\n",
    "            \"params\": {\"query_vector\": target_vector}\n",
    "        }\n",
    "    }\n",
    "}\n",
    "\n",
    "# 類似する文書を検索する。\n",
    "responses = client.search(\n",
    "    index=INDEX_NAME,\n",
    "    body={\n",
    "        \"size\": SCROLL_SIZE,\n",
    "        \"query\": script_query,\n",
    "        \"_source\": {\"includes\": [\"_id\", \"業種(大分類)\", \"文章\"]}\n",
    "    }\n",
    ")\n",
    "# 検索結果を整形する。1件目は検索対象の自分自身である。\n",
    "responses = responses['hits']['hits']\n",
    "similar = []\n",
    "for response in responses:\n",
    "    id = response['_id']\n",
    "    score = response['_score']\n",
    "    category = response['_source']['業種(大分類)']\n",
    "    sentence = response['_source']['文章']\n",
    "    similar.append({'ID':id, 'SCORE':score, \"分類\":category, \"文章\":sentence})\n",
    "\n",
    "sim_pd = pd.DataFrame(similar)\n",
    "\n",
    "sim_pd"
   ]
  }
 ],
 "metadata": {
  "kernelspec": {
   "display_name": "Environment (conda_mhlw)",
   "language": "python",
   "name": "conda_mhlw"
  },
  "language_info": {
   "codemirror_mode": {
    "name": "ipython",
    "version": 3
   },
   "file_extension": ".py",
   "mimetype": "text/x-python",
   "name": "python",
   "nbconvert_exporter": "python",
   "pygments_lexer": "ipython3",
   "version": "3.6.9"
  }
 },
 "nbformat": 4,
 "nbformat_minor": 4
}
